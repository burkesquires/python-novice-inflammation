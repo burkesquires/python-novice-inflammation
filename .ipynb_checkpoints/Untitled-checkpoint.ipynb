{
 "cells": [
  {
   "cell_type": "code",
   "execution_count": 1,
   "metadata": {
    "collapsed": false
   },
   "outputs": [
    {
     "name": "stdout",
     "output_type": "stream",
     "text": [
      "//anaconda/lib/python3.4/importlib/_bootstrap.py:321: UserWarning: Module argparse was already imported from //anaconda/lib/python3.4/argparse.py, but /anaconda/lib/python3.4/site-packages is being added to sys.path\n",
      "  return f(*args, **kwds)\n",
      "//anaconda/lib/python3.4/site-packages/IPython/utils/traitlets.py:5: UserWarning: IPython.utils.traitlets has moved to a top-level traitlets package.\n",
      "  warn(\"IPython.utils.traitlets has moved to a top-level traitlets package.\")\n",
      "//anaconda/lib/python3.4/site-packages/IPython/utils/log.py:5: UserWarning: IPython.utils.log has moved to traitlets.log\n",
      "  warn(\"IPython.utils.log has moved to traitlets.log\")\n",
      "Traceback (most recent call last):\n",
      "  File \"//anaconda/lib/python3.4/site-packages/traitlets/traitlets.py\", line 432, in __get__\n",
      "    value = obj._trait_values[self.name]\n",
      "KeyError: 'parent'\n",
      "\n",
      "During handling of the above exception, another exception occurred:\n",
      "\n",
      "Traceback (most recent call last):\n",
      "  File \"/anaconda/bin/notedown\", line 11, in <module>\n",
      "    sys.exit(app())\n",
      "  File \"//anaconda/lib/python3.4/site-packages/notedown/main.py\", line 276, in app\n",
      "    main(args, help=parser.format_help())\n",
      "  File \"//anaconda/lib/python3.4/site-packages/notedown/main.py\", line 226, in main\n",
      "    strip_outputs=args.strip_outputs)\n",
      "  File \"//anaconda/lib/python3.4/site-packages/notedown/notedown.py\", line 380, in __init__\n",
      "    self.exporter = MarkdownExporter()\n",
      "  File \"//anaconda/lib/python3.4/site-packages/IPython/nbconvert/exporters/templateexporter.py\", line 151, in __init__\n",
      "    super(TemplateExporter, self).__init__(config=config, **kw)\n",
      "  File \"//anaconda/lib/python3.4/site-packages/IPython/nbconvert/exporters/exporter.py\", line 97, in __init__\n",
      "    super(Exporter, self).__init__(config=with_default_config, **kw)\n",
      "  File \"//anaconda/lib/python3.4/site-packages/IPython/config/configurable.py\", line 80, in __init__\n",
      "    self.config = config\n",
      "  File \"//anaconda/lib/python3.4/site-packages/traitlets/traitlets.py\", line 465, in __set__\n",
      "    obj._notify_trait(self.name, old_value, new_value)\n",
      "  File \"//anaconda/lib/python3.4/site-packages/traitlets/traitlets.py\", line 683, in _notify_trait\n",
      "    c(name, old_value, new_value)\n",
      "  File \"//anaconda/lib/python3.4/site-packages/IPython/config/configurable.py\", line 159, in _config_changed\n",
      "    self._load_config(new, traits=traits, section_names=section_names)\n",
      "  File \"//anaconda/lib/python3.4/site-packages/IPython/config/configurable.py\", line 132, in _load_config\n",
      "    my_config = self._find_my_config(cfg)\n",
      "  File \"//anaconda/lib/python3.4/site-packages/IPython/config/configurable.py\", line 113, in _find_my_config\n",
      "    if self.parent:\n",
      "  File \"//anaconda/lib/python3.4/site-packages/traitlets/traitlets.py\", line 439, in __get__\n",
      "    value = self._validate(obj, dynamic_default())\n",
      "  File \"//anaconda/lib/python3.4/site-packages/traitlets/traitlets.py\", line 471, in _validate\n",
      "    value = self.validate(obj, value)\n",
      "  File \"//anaconda/lib/python3.4/site-packages/traitlets/traitlets.py\", line 1045, in validate\n",
      "    self.error(obj, value)\n",
      "  File \"//anaconda/lib/python3.4/site-packages/traitlets/traitlets.py\", line 899, in error\n",
      "    raise TraitError(e)\n",
      "traitlets.traitlets.TraitError: The 'parent' trait of a MarkdownExporter instance must be a Configurable, but a value of class 'NoneType' (i.e. None) was specified.\n"
     ]
    }
   ],
   "source": [
    "!notedown 06-func.md > 06-func.ipynb"
   ]
  },
  {
   "cell_type": "code",
   "execution_count": null,
   "metadata": {
    "collapsed": true
   },
   "outputs": [],
   "source": []
  }
 ],
 "metadata": {
  "kernelspec": {
   "display_name": "Python 3",
   "language": "python",
   "name": "python3"
  },
  "language_info": {
   "codemirror_mode": {
    "name": "ipython",
    "version": 3
   },
   "file_extension": ".py",
   "mimetype": "text/x-python",
   "name": "python",
   "nbconvert_exporter": "python",
   "pygments_lexer": "ipython3",
   "version": "3.4.3"
  }
 },
 "nbformat": 4,
 "nbformat_minor": 0
}
