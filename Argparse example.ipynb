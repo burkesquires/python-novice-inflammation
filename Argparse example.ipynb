{
 "cells": [
  {
   "cell_type": "markdown",
   "metadata": {},
   "source": [
    "# How to parse command line arguments in Python"
   ]
  },
  {
   "cell_type": "markdown",
   "metadata": {},
   "source": [
    "Using the built-in module *argparse* you can create simple, intuitive command line applications. Here we will see an example of a simple script that was written and utilizes the *argparse* module to provide help to the user. \n",
    "\n",
    "To start with *argparse* we have to import it:"
   ]
  },
  {
   "cell_type": "code",
   "execution_count": 18,
   "metadata": {
    "collapsed": false
   },
   "outputs": [],
   "source": [
    "import argparse"
   ]
  },
  {
   "cell_type": "markdown",
   "metadata": {},
   "source": [
    "Let's first take a look at what happens when we call the script from python with no arguments:"
   ]
  },
  {
   "cell_type": "code",
   "execution_count": 19,
   "metadata": {
    "collapsed": false
   },
   "outputs": [
    {
     "name": "stdout",
     "output_type": "stream",
     "text": [
      "usage: SNParray2fasta.py -in (SNP file)\r\n",
      "SNParray2fasta.py: error: the following arguments are required: -in/--input_file\r\n"
     ]
    }
   ],
   "source": [
    "!python command-line/SNParrray2fasta.py"
   ]
  },
  {
   "cell_type": "markdown",
   "metadata": {},
   "source": [
    "Okay, so we see that there is a required file that we forgot to include. Let's get more help..."
   ]
  },
  {
   "cell_type": "code",
   "execution_count": 32,
   "metadata": {
    "collapsed": false
   },
   "outputs": [
    {
     "name": "stdout",
     "output_type": "stream",
     "text": [
      "usage: SNParray2fasta.py -in (SNP file)\r\n",
      "\r\n",
      "Create FASTA file from tab delimited SNP data.\r\n",
      "\r\n",
      "Required:\r\n",
      "  -in INPUT_FILE, --input_file INPUT_FILE\r\n",
      "               The input SNP file.\r\n",
      "\r\n",
      "Options:\r\n",
      "  -out OUTPUT_FILE, --output_file OUTPUT_FILE\r\n",
      "               The output FASTA file.\r\n",
      "  -h, --help   show this help message & exit\r\n"
     ]
    }
   ],
   "source": [
    "!python command-line/SNParrray2fasta.py --help"
   ]
  },
  {
   "cell_type": "markdown",
   "metadata": {},
   "source": [
    "Well, that is helpful! We see that there are required inputs, i.e. the input file. We also see that there are optionsl inputs, i.e. the output file name. \n",
    "\n",
    "Lets run the program with the required optiions only:"
   ]
  },
  {
   "cell_type": "code",
   "execution_count": 21,
   "metadata": {
    "collapsed": true
   },
   "outputs": [],
   "source": [
    "!python command-line/SNParrray2fasta.py -in command-line/test_file.txt"
   ]
  },
  {
   "cell_type": "markdown",
   "metadata": {},
   "source": [
    "Nothing seems to happen but we have produced a new output file. Let's take a look at it:"
   ]
  },
  {
   "cell_type": "code",
   "execution_count": null,
   "metadata": {
    "collapsed": true
   },
   "outputs": [],
   "source": [
    "%load command-line/test_file.fasta"
   ]
  },
  {
   "cell_type": "markdown",
   "metadata": {},
   "source": [
    "Let's run the script again but this time change the output file name:"
   ]
  },
  {
   "cell_type": "code",
   "execution_count": 29,
   "metadata": {
    "collapsed": true
   },
   "outputs": [],
   "source": [
    "!python command-line/SNParrray2fasta.py -in command-line/test_file.txt -out command-line/new_file_name"
   ]
  },
  {
   "cell_type": "code",
   "execution_count": 31,
   "metadata": {
    "collapsed": false
   },
   "outputs": [
    {
     "name": "stdout",
     "output_type": "stream",
     "text": [
      "SNParrray2fasta.py  new_file_name.fasta test_file.fasta     test_file.txt\r\n"
     ]
    }
   ],
   "source": [
    "!ls command-line/"
   ]
  },
  {
   "cell_type": "markdown",
   "metadata": {},
   "source": [
    "We can see that a new file has been created with our new name."
   ]
  },
  {
   "cell_type": "markdown",
   "metadata": {},
   "source": [
    "We should also notice that I can use the longer version of the parameter names inplace fo the shorter versions, if we wish, BUT we must have two dashes preceeding it."
   ]
  },
  {
   "cell_type": "code",
   "execution_count": 35,
   "metadata": {
    "collapsed": false
   },
   "outputs": [],
   "source": [
    "!python command-line/SNParrray2fasta.py --input_file command-line/test_file.txt"
   ]
  },
  {
   "cell_type": "code",
   "execution_count": 36,
   "metadata": {
    "collapsed": false
   },
   "outputs": [
    {
     "name": "stdout",
     "output_type": "stream",
     "text": [
      "total 48\r\n",
      "drwxr-xr-x   7 squiresrb  NIH\\Domain Users   238 Nov 17 09:37 \u001b[34m.\u001b[m\u001b[m\r\n",
      "drwxr-xr-x  80 squiresrb  NIH\\Domain Users  2720 Nov 17 09:40 \u001b[34m..\u001b[m\u001b[m\r\n",
      "-rw-r--r--@  1 squiresrb  NIH\\Domain Users  6148 Nov 17 09:37 .DS_Store\r\n",
      "-rw-r--r--@  1 squiresrb  NIH\\Domain Users  2096 Nov 17 09:37 SNParrray2fasta.py\r\n",
      "-rw-r--r--   1 squiresrb  NIH\\Domain Users   441 Nov 17 09:37 new_file_name.fasta\r\n",
      "-rw-r--r--   1 squiresrb  NIH\\Domain Users   441 Nov 17 09:40 test_file.fasta\r\n",
      "-rw-r--r--@  1 squiresrb  NIH\\Domain Users   741 Nov 17 09:27 test_file.txt\r\n"
     ]
    }
   ],
   "source": [
    "!ls -la command-line/"
   ]
  },
  {
   "cell_type": "code",
   "execution_count": null,
   "metadata": {
    "collapsed": true
   },
   "outputs": [],
   "source": []
  }
 ],
 "metadata": {
  "kernelspec": {
   "display_name": "Python 3",
   "language": "python",
   "name": "python3"
  },
  "language_info": {
   "codemirror_mode": {
    "name": "ipython",
    "version": 3
   },
   "file_extension": ".py",
   "mimetype": "text/x-python",
   "name": "python",
   "nbconvert_exporter": "python",
   "pygments_lexer": "ipython3",
   "version": "3.4.3"
  }
 },
 "nbformat": 4,
 "nbformat_minor": 0
}
