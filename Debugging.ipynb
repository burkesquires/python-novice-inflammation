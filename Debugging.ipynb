{
 "cells": [
  {
   "cell_type": "markdown",
   "metadata": {
    "slideshow": {
     "slide_type": "slide"
    }
   },
   "source": [
    "# Debugging"
   ]
  },
  {
   "cell_type": "markdown",
   "metadata": {
    "slideshow": {
     "slide_type": "fragment"
    }
   },
   "source": [
    "R. Burke Squires, richard.squires@nih.gov"
   ]
  },
  {
   "cell_type": "markdown",
   "metadata": {
    "slideshow": {
     "slide_type": "skip"
    }
   },
   "source": [
    "---"
   ]
  },
  {
   "cell_type": "markdown",
   "metadata": {
    "slideshow": {
     "slide_type": "slide"
    }
   },
   "source": [
    "Averaging over the lifetime of the project, a **programmer spends about 10-20% of his time writing code**, and most programmers write about **10-12 lines of code per day** that goes into the final product, regardless of their skill level. Good programmers spend much of the **other 90% thinking, researching, and experimenting** to find the best design. Bad programmers spend much of that 90% debugging code by randomly making changes and seeing if they work. [Mythical Man Month](http://automagical.rationalmind.net/2010/08/17/some-lesser-known-truths-about-programming/)"
   ]
  },
  {
   "cell_type": "markdown",
   "metadata": {
    "slideshow": {
     "slide_type": "slide"
    }
   },
   "source": [
    "---\n",
    "\n",
    "_The most effective debugging tool is still careful thought, coupled with judiciously placed print statements._\n",
    "Brian Kernighan, \"Unix for Beginners\" (1979)\n",
    "\n",
    "_Everyone knows that debugging is twice as hard as writing a program in the first place. So if you're as clever as you can be when you write it, how will you ever debug it?_\n",
    "Brian Kernighan, \"The Elements of Programming Style\", 2nd edition, chapter 2"
   ]
  },
  {
   "cell_type": "markdown",
   "metadata": {
    "slideshow": {
     "slide_type": "skip"
    }
   },
   "source": [
    "---"
   ]
  },
  {
   "cell_type": "markdown",
   "metadata": {
    "slideshow": {
     "slide_type": "slide"
    }
   },
   "source": [
    "# Debugging...is a learned skill!"
   ]
  },
  {
   "cell_type": "markdown",
   "metadata": {
    "slideshow": {
     "slide_type": "skip"
    }
   },
   "source": [
    "---"
   ]
  },
  {
   "cell_type": "markdown",
   "metadata": {
    "slideshow": {
     "slide_type": "slide"
    }
   },
   "source": [
    "### After running your program and determining that it is not working...\n",
    "### Can you answer these questions as best as you can?\n",
    "\n",
    "1. What makes you say your code isn't working?\n",
    "2. What did you expect your code to do and why?\n",
    "3. What did your code do instead and how do you know?"
   ]
  },
  {
   "cell_type": "markdown",
   "metadata": {
    "slideshow": {
     "slide_type": "skip"
    }
   },
   "source": [
    "---"
   ]
  },
  {
   "cell_type": "markdown",
   "metadata": {
    "slideshow": {
     "slide_type": "slide"
    }
   },
   "source": [
    "# Debugging Methods:\n",
    "\n",
    "1. Print statements\n",
    "2. Trace\n",
    "3. Logging\n",
    "4. Python Debugger (PDB)\n",
    "5. IDE Debugging (PyCharm, etc)"
   ]
  },
  {
   "cell_type": "markdown",
   "metadata": {
    "slideshow": {
     "slide_type": "skip"
    }
   },
   "source": [
    "---"
   ]
  },
  {
   "cell_type": "markdown",
   "metadata": {
    "slideshow": {
     "slide_type": "slide"
    }
   },
   "source": [
    "## 1. Print Statements"
   ]
  },
  {
   "cell_type": "markdown",
   "metadata": {
    "slideshow": {
     "slide_type": "fragment"
    }
   },
   "source": [
    "A primitive way of debugging programs is to embed print statements through out the code to track execution flow and state. However, this approach can quickly become unmaintainable for a number of reasons:\n",
    "- Normal program output is mixed with debugging output. This makes it difficult to distinguish between the two.\n",
    "- There is no easy way to disable debugging output, or redirect it to a file.\n",
    "- When done with debugging, it may be difficult to track down and remove all print statements that are scattered over the code."
   ]
  },
  {
   "cell_type": "markdown",
   "metadata": {
    "slideshow": {
     "slide_type": "slide"
    }
   },
   "source": [
    "## 2. Using the Trace Module"
   ]
  },
  {
   "cell_type": "markdown",
   "metadata": {
    "slideshow": {
     "slide_type": "fragment"
    }
   },
   "source": [
    "[Using Python trace module](https://wiki.qt.io/Python_Debugging_Tips)\n",
    "\n",
    "If your program is crashing and no information is being shown about what happened (as usually is the case with a segfault), then the Python module trace can be useful to point which line of the program is causing the crash or at least the line where the program stopped. Just add \"-m trace —trace\" parameters to the Python executable and every line being executed will be printed on the screen. Supposing your program is called 'script.py', one way to use trace is shown below:"
   ]
  },
  {
   "cell_type": "code",
   "execution_count": null,
   "metadata": {
    "collapsed": false,
    "slideshow": {
     "slide_type": "slide"
    }
   },
   "outputs": [],
   "source": [
    "!python -m trace --trace calc_circle.py"
   ]
  },
  {
   "cell_type": "markdown",
   "metadata": {
    "slideshow": {
     "slide_type": "slide"
    }
   },
   "source": [
    "Keep in mind that this will make your program run slower, as the standard output will show everything being executed at the time. For more information about the trace module, you can consult its official documentation here."
   ]
  },
  {
   "cell_type": "markdown",
   "metadata": {
    "slideshow": {
     "slide_type": "slide"
    }
   },
   "source": [
    "## 3. Logging"
   ]
  },
  {
   "cell_type": "markdown",
   "metadata": {
    "slideshow": {
     "slide_type": "fragment"
    }
   },
   "source": [
    "Python provides an alternative to debug print statements that doesn't suffer from the shortcomings above. This alternative comes in the form of a module called logging, and it is very powerful and easy to use.\n",
    "\n",
    "Let's start with a simple example. The following snippet imports the logging module and sets the logging level to debug:"
   ]
  },
  {
   "cell_type": "code",
   "execution_count": null,
   "metadata": {
    "collapsed": true,
    "slideshow": {
     "slide_type": "fragment"
    }
   },
   "outputs": [],
   "source": [
    "import logging\n",
    "\n",
    "logging.basicConfig(level=logging.DEBUG)"
   ]
  },
  {
   "cell_type": "markdown",
   "metadata": {
    "slideshow": {
     "slide_type": "slide"
    }
   },
   "source": [
    "The call to logging.basicConfig() should be done once when your program starts. Now, whenever you want to print a debug message, call logging.debug():"
   ]
  },
  {
   "cell_type": "code",
   "execution_count": null,
   "metadata": {
    "collapsed": true,
    "slideshow": {
     "slide_type": "fragment"
    }
   },
   "outputs": [],
   "source": [
    "logging.debug('This is a debug message.')"
   ]
  },
  {
   "cell_type": "markdown",
   "metadata": {
    "slideshow": {
     "slide_type": "fragment"
    }
   },
   "source": [
    "This will send the following string to stderr:\n",
    "\n",
    "    DEBUG:root:This is a debugging message."
   ]
  },
  {
   "cell_type": "markdown",
   "metadata": {
    "slideshow": {
     "slide_type": "slide"
    }
   },
   "source": [
    "DEBUG indicates that this is a debug message. root indicates that this is the root logger, as it is possible to have multiple loggers (don't worry about this for now).\n",
    "\n",
    "Now we have a better logging system that can be globally switched on and off. To turn off debug messages, simply omit the level argument when calling logging.basicConfig():"
   ]
  },
  {
   "cell_type": "code",
   "execution_count": null,
   "metadata": {
    "collapsed": true,
    "slideshow": {
     "slide_type": "fragment"
    }
   },
   "outputs": [],
   "source": [
    "logging.basicConfig()"
   ]
  },
  {
   "cell_type": "markdown",
   "metadata": {
    "slideshow": {
     "slide_type": "slide"
    }
   },
   "source": [
    "Logging to a file and adding date/time\n",
    "To take full advantage of the logging module, let's have a look at some of the options that can be provided to logging.basicConfig():\n",
    "\n",
    "    Argument\tDescription\n",
    "    filename\tSend log messages to a file.\n",
    "    filemode\tThe mode to open the file in (defaults to 'a').\n",
    "    format\t  The format of log messages.\n",
    "    dateformat  date/time format in log messages.\n",
    "    level\t   Level of messages to be printed (more on this later).\n",
    "\n",
    "For example, to configure the logging module to send debug messages to a file called debug.log, use:\n",
    "\n",
    "    logging.basicConfig(level=logging.DEBUG, filename='debug.log')\n",
    "\n",
    "Log messages will be appended to debug.log if the file already exists. This means that your log messages will be kept even if you run your program multiple times.\n",
    "\n",
    "To add date/time to your log messages, use:"
   ]
  },
  {
   "cell_type": "code",
   "execution_count": null,
   "metadata": {
    "collapsed": true,
    "slideshow": {
     "slide_type": "slide"
    }
   },
   "outputs": [],
   "source": [
    "logging.basicConfig(level=logging.DEBUG, filename='debug.log',\n",
    "                    format='%(asctime)s %(levelname)s: %(message)s',\n",
    "                    datefmt='%Y-%m-%d %H:%M:%S')"
   ]
  },
  {
   "cell_type": "markdown",
   "metadata": {
    "slideshow": {
     "slide_type": "fragment"
    }
   },
   "source": [
    "This will result in log messages like the following:\n",
    "\n",
    "    2009-08-30 23:30:49 DEBUG: This is a debug message."
   ]
  },
  {
   "cell_type": "markdown",
   "metadata": {
    "slideshow": {
     "slide_type": "slide"
    }
   },
   "source": [
    "### Logging levels\n",
    "\n",
    "The logging supports multiple levels of log messages in addition to DEBUG. Here is the full list:\n",
    "\n",
    "\n",
    "Level           |Function          \n",
    "----------------|------------------\n",
    "logging.CRITICAL|logging.critical()\n",
    "logging.ERROR   |logging.error()   \n",
    "logging.WARNING |logging.warning() \n",
    "logging.INFO    |logging.info()    \n",
    "logging.DEBUG   |logging.debug()\n",
    "    \n",
    "\n",
    "Setting the logging level to a value enables log messages for this level and all levels above it. So if you set the level to logging.WARNING, you will get WARNING, ERROR and CRITICAL messages. This allows you to have different levels of log verbosity.\n",
    "\n",
    "### Convenient template for logging\n",
    "\n",
    "Before I conclude this section, I will provide a simple template for enabling logging functionality in your programs. This template uses command-line flags to change the level logging, which is more convenient that modifying source code."
   ]
  },
  {
   "cell_type": "code",
   "execution_count": null,
   "metadata": {
    "collapsed": true,
    "slideshow": {
     "slide_type": "slide"
    }
   },
   "outputs": [],
   "source": [
    "import logging\n",
    "import optparse\n",
    "\n",
    "LOGGING_LEVELS = {'critical': logging.CRITICAL,\n",
    "                  'error': logging.ERROR,\n",
    "                  'warning': logging.WARNING,\n",
    "                  'info': logging.INFO,\n",
    "                  'debug': logging.DEBUG}\n",
    "\n",
    "def main():\n",
    "    parser = optparse.OptionParser()\n",
    "    parser.add_option('-l', '--logging-level', help='Logging level')\n",
    "    parser.add_option('-f', '--logging-file', help='Logging file name')\n",
    "    (options, args) = parser.parse_args()\n",
    "    logging_level = LOGGING_LEVELS.get(options.logging_level, logging.NOTSET)\n",
    "    logging.basicConfig(level=logging_level, filename=options.logging_file,\n",
    "                          format='%(asctime)s %(levelname)s: %(message)s',\n",
    "                          datefmt='%Y-%m-%d %H:%M:%S')\n",
    "\n",
    "    # Your program goes here.\n",
    "    # You can access command-line arguments using the args variable.\n",
    "\n",
    "if __name__ == '__main__':\n",
    "  main()"
   ]
  },
  {
   "cell_type": "markdown",
   "metadata": {
    "slideshow": {
     "slide_type": "slide"
    }
   },
   "source": [
    "By default, the logging module prints critical, error and warning messages. To change this so that all levels are printed, use:\n",
    "\n",
    "    $python ./your-program.py --logging=debug\n",
    "\n",
    "To send log messages to a file called debug.log, use:\n",
    "\n",
    "    $python ./your-program.py --logging-level=debug --logging-file=debug.log"
   ]
  },
  {
   "cell_type": "markdown",
   "metadata": {},
   "source": [
    "---"
   ]
  },
  {
   "cell_type": "markdown",
   "metadata": {
    "slideshow": {
     "slide_type": "slide"
    }
   },
   "source": [
    "## 4. Using the Python Debugger (PDB, iPDB)"
   ]
  },
  {
   "cell_type": "markdown",
   "metadata": {
    "slideshow": {
     "slide_type": "fragment"
    }
   },
   "source": [
    "When you need to examine the execution flow of your program, an interactive console is not going to be enough. For situations like this, you can use the Python debugger. It provides a full-fledged debugging environment that supports breakpoints, stepping through source code, stack inspection and much more. This debugger comes with the standard python distribution as a module named pdb."
   ]
  },
  {
   "cell_type": "markdown",
   "metadata": {
    "slideshow": {
     "slide_type": "fragment"
    }
   },
   "source": [
    "- [PDB](https://pythonconquerstheuniverse.wordpress.com/2009/09/10/debugging-in-python/)\n",
    "- [PDB cheatsheet (PDF)](http://web.stanford.edu/class/physics91si/2013/handouts/Pdb_Commands.pdf)\n",
    "- [iPDB](https://www.safaribooksonline.com/blog/2014/11/18/intro-python-debugger/)"
   ]
  },
  {
   "cell_type": "code",
   "execution_count": null,
   "metadata": {
    "collapsed": true
   },
   "outputs": [],
   "source": [
    "# %load calc_circle_pdb.py\n",
    "'''Illustrate a global constant being used inside functions.'''\n",
    "\n",
    "import pdb\n",
    "\n",
    "pdb.set_trace()\n",
    "\n",
    "PI = 3.14159265358979   # global constant -- only place the value of PI is set\n",
    "\n",
    "def circle_area(radius):\n",
    "    return PI*radius*radius    # use value of global constant PI\n",
    "\n",
    "def circle_circumference(radius):\n",
    "    return 2*PI*radius         # use value of global constant PI\n",
    "\n",
    "def main():\n",
    "    print('circle area with radius 5:', circle_area(5))\n",
    "    print('circumference with radius 5:', circle_circumference(5))\n",
    "\n",
    "main()"
   ]
  },
  {
   "cell_type": "code",
   "execution_count": null,
   "metadata": {
    "collapsed": false,
    "slideshow": {
     "slide_type": "slide"
    }
   },
   "outputs": [],
   "source": [
    "!python calc_circle_pdb.py"
   ]
  },
  {
   "cell_type": "markdown",
   "metadata": {
    "slideshow": {
     "slide_type": "fragment"
    }
   },
   "source": [
    "Note: Interupt the kernel to continue above."
   ]
  },
  {
   "cell_type": "markdown",
   "metadata": {
    "slideshow": {
     "slide_type": "skip"
    }
   },
   "source": [
    "---"
   ]
  },
  {
   "cell_type": "markdown",
   "metadata": {
    "slideshow": {
     "slide_type": "slide"
    }
   },
   "source": [
    "## 5. PyCharm / spyder / IDE"
   ]
  },
  {
   "cell_type": "markdown",
   "metadata": {
    "slideshow": {
     "slide_type": "fragment"
    }
   },
   "source": [
    "Debugging\n",
    "- Built-in debugger\n",
    "- Set breakpoints\n",
    "- Observe variables during execution"
   ]
  },
  {
   "cell_type": "markdown",
   "metadata": {
    "slideshow": {
     "slide_type": "fragment"
    }
   },
   "source": [
    "Demo\n",
    "\n",
    "[Debugging in PyCharm](https://www.jetbrains.com/pycharm/help/debugging.html)"
   ]
  },
  {
   "cell_type": "markdown",
   "metadata": {
    "slideshow": {
     "slide_type": "skip"
    }
   },
   "source": [
    "---"
   ]
  },
  {
   "cell_type": "markdown",
   "metadata": {
    "slideshow": {
     "slide_type": "slide"
    }
   },
   "source": [
    "Source(s)\n",
    "- [Ayman Hourieh](http://web.archive.org/web/20120819135307/http://aymanh.com/python-debugging-techniques)"
   ]
  },
  {
   "cell_type": "markdown",
   "metadata": {
    "slideshow": {
     "slide_type": "fragment"
    }
   },
   "source": [
    "Resources:\n",
    "- [Debugging](https://inst.eecs.berkeley.edu/~cs61a/fa12/pdfs/debugging.pdf)\n",
    "- [Teaching Novice Programmers How to Debug Their Code](http://blog.codeunion.io/2014/09/03/teaching-novices-how-to-debug-code/)\n",
    "- [Computer Programming Principles/Maintaining/Debugging](https://en.wikibooks.org/wiki/Computer_Programming_Principles/Maintaining/Debugging)"
   ]
  },
  {
   "cell_type": "code",
   "execution_count": null,
   "metadata": {
    "collapsed": true
   },
   "outputs": [],
   "source": []
  }
 ],
 "metadata": {
  "celltoolbar": "Slideshow",
  "kernelspec": {
   "display_name": "Python 3",
   "language": "python",
   "name": "python3"
  },
  "language_info": {
   "codemirror_mode": {
    "name": "ipython",
    "version": 3
   },
   "file_extension": ".py",
   "mimetype": "text/x-python",
   "name": "python",
   "nbconvert_exporter": "python",
   "pygments_lexer": "ipython3",
   "version": "3.4.3"
  }
 },
 "nbformat": 4,
 "nbformat_minor": 0
}
