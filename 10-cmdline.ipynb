{
 "cells": [
  {
   "cell_type": "markdown",
   "metadata": {},
   "source": [
    "# Programming with Python\n",
    "## Command-Line Programs"
   ]
  },
  {
   "cell_type": "markdown",
   "metadata": {},
   "source": [
    "---"
   ]
  },
  {
   "cell_type": "markdown",
   "metadata": {},
   "source": [
    "## Learning Objectives\n",
    "\n",
    "*   Use the values of command-line arguments in a program.\n",
    "*   Handle flags and files separately in a command-line program.\n",
    "*   Read data from standard input in a program so that it can be used in a pipeline.\n",
    "\n",
    "The IPython Notebook and other interactive tools are great for prototyping code and exploring data,\n",
    "but sooner or later we will want to use our program in a pipeline\n",
    "or run it in a shell script to process thousands of data files.\n",
    "In order to do that, we need to make our programs work like other Unix command-line tools.\n",
    "For example, we may want a program that reads a dataset and prints the average inflammation per patient.\n",
    "\n",
    "## Switching to Shell Commands\n",
    "In this lesson we are switching from typing commands in a Python interpreter to typing\n",
    "commands in a shell terminal window (such as bash). When you see a `!` in front of a\n",
    "command that tells you that Jupyter will run the command in the shell rather than the Python interpreter. When you see a `$` in front of a command that tells you to run that command in the shell rather than the Python interpreter.\n",
    "\n",
    "This program does exactly what we want - it prints the average inflammation per patient\n",
    "for a given file."
   ]
  },
  {
   "cell_type": "code",
   "execution_count": 1,
   "metadata": {
    "collapsed": false
   },
   "outputs": [],
   "source": [
    "!python code/readings-01.py --mean data/inflammation-01.csv"
   ]
  },
  {
   "cell_type": "markdown",
   "metadata": {},
   "source": [
    "We might also want to look at the minimum of the first four lines"
   ]
  },
  {
   "cell_type": "code",
   "execution_count": 2,
   "metadata": {
    "collapsed": false
   },
   "outputs": [],
   "source": [
    "!head -4 data/inflammation-01.csv | python code/readings-01.py --min"
   ]
  },
  {
   "cell_type": "markdown",
   "metadata": {},
   "source": [
    "or the maximum inflammations in several files one after another:"
   ]
  },
  {
   "cell_type": "code",
   "execution_count": 3,
   "metadata": {
    "collapsed": false
   },
   "outputs": [],
   "source": [
    "!python code/readings-01.py --max inflammation-*.csv"
   ]
  },
  {
   "cell_type": "markdown",
   "metadata": {},
   "source": [
    "Our scripts should do the following:\n",
    "\n",
    "1. If no filename is given on the command line, read data from [standard input](reference.html#standard-input).\n",
    "2. If one or more filenames are given, read data from them and report statistics for each file separately.\n",
    "3. Use the `--min`, `--mean`, or `--max` flag to determine what statistic to print.\n",
    "\n",
    "To make this work,\n",
    "we need to know how to handle command-line arguments in a program,\n",
    "and how to get at standard input.\n",
    "We'll tackle these questions in turn below.\n",
    "\n",
    "## Command-Line Arguments\n",
    "\n",
    "Using the text editor of your choice,\n",
    "save the following in a text file called `sys-version.py`:"
   ]
  },
  {
   "cell_type": "code",
   "execution_count": 4,
   "metadata": {
    "collapsed": false
   },
   "outputs": [
    {
     "name": "stdout",
     "output_type": "stream",
     "text": [
      "version is 3.4.3 |Anaconda 2.4.0 (x86_64)| (default, Oct 20 2015, 14:27:51) \n",
      "[GCC 4.2.1 (Apple Inc. build 5577)]\n"
     ]
    }
   ],
   "source": [
    "import sys\n",
    "print('version is', sys.version)"
   ]
  },
  {
   "cell_type": "markdown",
   "metadata": {},
   "source": [
    "The first line imports a library called `sys`,\n",
    "which is short for \"system\".\n",
    "It defines values such as `sys.version`,\n",
    "which describes which version of Python we are running.\n",
    "We can run this script from the command line like this:"
   ]
  },
  {
   "cell_type": "code",
   "execution_count": 5,
   "metadata": {
    "collapsed": false
   },
   "outputs": [
    {
     "name": "stdout",
     "output_type": "stream",
     "text": [
      "version is 3.4.3 |Anaconda 2.4.0 (x86_64)| (default, Oct 20 2015, 14:27:51) \r\n",
      "[GCC 4.2.1 (Apple Inc. build 5577)]\r\n"
     ]
    }
   ],
   "source": [
    "!python code/sys-version.py"
   ]
  },
  {
   "cell_type": "markdown",
   "metadata": {},
   "source": [
    "Create another file called `argv-list.py` and save the following text to it."
   ]
  },
  {
   "cell_type": "code",
   "execution_count": 6,
   "metadata": {
    "collapsed": false
   },
   "outputs": [
    {
     "name": "stdout",
     "output_type": "stream",
     "text": [
      "sys.argv is ['//anaconda/lib/python3.4/site-packages/ipykernel/__main__.py', '-f', '/Users/squiresrb/Library/Jupyter/runtime/kernel-4b3143d0-4b65-4173-8116-a41dbe151e65.json']\n"
     ]
    }
   ],
   "source": [
    "import sys\n",
    "print('sys.argv is', sys.argv)"
   ]
  },
  {
   "cell_type": "markdown",
   "metadata": {},
   "source": [
    "The strange name `argv` stands for \"argument values\".\n",
    "Whenever Python runs a program,\n",
    "it takes all of the values given on the command line\n",
    "and puts them in the list `sys.argv`\n",
    "so that the program can determine what they were.\n",
    "If we run this program with no arguments:"
   ]
  },
  {
   "cell_type": "code",
   "execution_count": 7,
   "metadata": {
    "collapsed": false
   },
   "outputs": [
    {
     "name": "stdout",
     "output_type": "stream",
     "text": [
      "sys.argv is ['code/argv-list.py']\r\n"
     ]
    }
   ],
   "source": [
    "!python code/argv-list.py"
   ]
  },
  {
   "cell_type": "markdown",
   "metadata": {},
   "source": [
    "the only thing in the list is the full path to our script,\n",
    "which is always `sys.argv[0]`.\n",
    "If we run it with a few arguments, however:"
   ]
  },
  {
   "cell_type": "code",
   "execution_count": 8,
   "metadata": {
    "collapsed": false
   },
   "outputs": [
    {
     "name": "stdout",
     "output_type": "stream",
     "text": [
      "sys.argv is ['code/argv-list.py', 'first', 'second', 'third']\r\n"
     ]
    }
   ],
   "source": [
    "!python code/argv-list.py first second third"
   ]
  },
  {
   "cell_type": "markdown",
   "metadata": {},
   "source": [
    "then Python adds each of those arguments to that magic list.\n",
    "\n",
    "With this in hand,\n",
    "let's build a version of `readings.py` that always prints the per-patient mean of a single data file.\n",
    "The first step is to write a function that outlines our implementation,\n",
    "and a placeholder for the function that does the actual work.\n",
    "By convention this function is usually called `main`,\n",
    "though we can call it whatever we want:"
   ]
  },
  {
   "cell_type": "code",
   "execution_count": 9,
   "metadata": {
    "collapsed": false
   },
   "outputs": [
    {
     "name": "stdout",
     "output_type": "stream",
     "text": [
      "import sys\r\n",
      "import numpy\r\n",
      "\r\n",
      "def main():\r\n",
      "    script = sys.argv[0]\r\n",
      "    filename = sys.argv[1]\r\n",
      "    data = numpy.loadtxt(filename, delimiter=',')\r\n",
      "    for m in data.mean(axis=1):\r\n",
      "        print(m)\r\n"
     ]
    }
   ],
   "source": [
    "!cat code/readings-01.py"
   ]
  },
  {
   "cell_type": "markdown",
   "metadata": {},
   "source": [
    "This function gets the name of the script from `sys.argv[0]`,\n",
    "because that's where it's always put,\n",
    "and the name of the file to process from `sys.argv[1]`.\n",
    "Here's a simple test:"
   ]
  },
  {
   "cell_type": "code",
   "execution_count": 10,
   "metadata": {
    "collapsed": true
   },
   "outputs": [],
   "source": [
    "!python code/readings-01.py data/inflammation-01.csv"
   ]
  },
  {
   "cell_type": "markdown",
   "metadata": {},
   "source": [
    "There is no output because we have defined a function,\n",
    "but haven't actually called it.\n",
    "Let's add a call to `main`:"
   ]
  },
  {
   "cell_type": "code",
   "execution_count": 11,
   "metadata": {
    "collapsed": false
   },
   "outputs": [
    {
     "name": "stdout",
     "output_type": "stream",
     "text": [
      "import sys\r\n",
      "import numpy\r\n",
      "\r\n",
      "def main():\r\n",
      "    script = sys.argv[0]\r\n",
      "    filename = sys.argv[1]\r\n",
      "    data = numpy.loadtxt(filename, delimiter=',')\r\n",
      "    for m in data.mean(axis=1):\r\n",
      "        print(m)\r\n",
      "\r\n",
      "main()\r\n"
     ]
    }
   ],
   "source": [
    "!cat code/readings-02.py"
   ]
  },
  {
   "cell_type": "markdown",
   "metadata": {},
   "source": [
    "and run that:"
   ]
  },
  {
   "cell_type": "code",
   "execution_count": 12,
   "metadata": {
    "collapsed": false
   },
   "outputs": [
    {
     "name": "stdout",
     "output_type": "stream",
     "text": [
      "5.45\r\n",
      "5.425\r\n",
      "6.1\r\n",
      "5.9\r\n",
      "5.55\r\n",
      "6.225\r\n",
      "5.975\r\n",
      "6.65\r\n",
      "6.625\r\n",
      "6.525\r\n",
      "6.775\r\n",
      "5.8\r\n",
      "6.225\r\n",
      "5.75\r\n",
      "5.225\r\n",
      "6.3\r\n",
      "6.55\r\n",
      "5.7\r\n",
      "5.85\r\n",
      "6.55\r\n",
      "5.775\r\n",
      "5.825\r\n",
      "6.175\r\n",
      "6.1\r\n",
      "5.8\r\n",
      "6.425\r\n",
      "6.05\r\n",
      "6.025\r\n",
      "6.175\r\n",
      "6.55\r\n",
      "6.175\r\n",
      "6.35\r\n",
      "6.725\r\n",
      "6.125\r\n",
      "7.075\r\n",
      "5.725\r\n",
      "5.925\r\n",
      "6.15\r\n",
      "6.075\r\n",
      "5.75\r\n",
      "5.975\r\n",
      "5.725\r\n",
      "6.3\r\n",
      "5.9\r\n",
      "6.75\r\n",
      "5.925\r\n",
      "7.225\r\n",
      "6.15\r\n",
      "5.95\r\n",
      "6.275\r\n",
      "5.7\r\n",
      "6.1\r\n",
      "6.825\r\n",
      "5.975\r\n",
      "6.725\r\n",
      "5.7\r\n",
      "6.25\r\n",
      "6.4\r\n",
      "7.05\r\n",
      "5.9\r\n"
     ]
    }
   ],
   "source": [
    "!python code/readings-02.py data/inflammation-01.csv"
   ]
  },
  {
   "cell_type": "markdown",
   "metadata": {},
   "source": [
    "> ## The Right Way to Do It\n",
    ">\n",
    "> If our programs can take complex parameters or multiple filenames,\n",
    "> we shouldn't handle `sys.argv` directly.\n",
    "> Instead,\n",
    "> we should use Python's `argparse` library,\n",
    "> which handles common cases in a systematic way,\n",
    "> and also makes it easy for us to provide sensible error messages for our users.\n",
    "\n",
    "## Handling Multiple Files\n",
    "\n",
    "The next step is to teach our program how to handle multiple files.\n",
    "Since 60 lines of output per file is a lot to page through,\n",
    "we'll start by using three smaller files,\n",
    "each of which has three days of data for two patients:"
   ]
  },
  {
   "cell_type": "code",
   "execution_count": 13,
   "metadata": {
    "collapsed": false
   },
   "outputs": [
    {
     "name": "stdout",
     "output_type": "stream",
     "text": [
      "data/small-01.csv data/small-02.csv data/small-03.csv\r\n"
     ]
    }
   ],
   "source": [
    "!ls data/small-*.csv"
   ]
  },
  {
   "cell_type": "code",
   "execution_count": 14,
   "metadata": {
    "collapsed": false
   },
   "outputs": [
    {
     "name": "stdout",
     "output_type": "stream",
     "text": [
      "0,0,1\r\n",
      "0,1,2\r\n"
     ]
    }
   ],
   "source": [
    "!cat data/small-01.csv"
   ]
  },
  {
   "cell_type": "code",
   "execution_count": 15,
   "metadata": {
    "collapsed": false
   },
   "outputs": [
    {
     "name": "stdout",
     "output_type": "stream",
     "text": [
      "0.333333333333\r\n",
      "1.0\r\n"
     ]
    }
   ],
   "source": [
    "!python code/readings-02.py data/small-01.csv"
   ]
  },
  {
   "cell_type": "markdown",
   "metadata": {},
   "source": [
    "Using small data files as input also allows us to check our results more easily:\n",
    "here,\n",
    "for example,\n",
    "we can see that our program is calculating the mean correctly for each line,\n",
    "whereas we were really taking it on faith before.\n",
    "This is yet another rule of programming:\n",
    "*test the simple things first*.\n",
    "\n",
    "We want our program to process each file separately,\n",
    "so we need a loop that executes once for each filename.\n",
    "If we specify the files on the command line,\n",
    "the filenames will be in `sys.argv`,\n",
    "but we need to be careful:\n",
    "`sys.argv[0]` will always be the name of our script,\n",
    "rather than the name of a file.\n",
    "We also need to handle an unknown number of filenames,\n",
    "since our program could be run for any number of files.\n",
    "\n",
    "The solution to both problems is to loop over the contents of `sys.argv[1:]`.\n",
    "The '1' tells Python to start the slice at location 1,\n",
    "so the program's name isn't included;\n",
    "since we've left off the upper bound,\n",
    "the slice runs to the end of the list,\n",
    "and includes all the filenames.\n",
    "Here's our changed program\n",
    "`readings-03.py`:"
   ]
  },
  {
   "cell_type": "code",
   "execution_count": 16,
   "metadata": {
    "collapsed": false
   },
   "outputs": [
    {
     "name": "stdout",
     "output_type": "stream",
     "text": [
      "import sys\r\n",
      "import numpy\r\n",
      "\r\n",
      "def main():\r\n",
      "    script = sys.argv[0]\r\n",
      "    for filename in sys.argv[1:]:\r\n",
      "        data = numpy.loadtxt(filename, delimiter=',')\r\n",
      "        for m in data.mean(axis=1):\r\n",
      "            print(m)\r\n",
      "\r\n",
      "main()\r\n"
     ]
    }
   ],
   "source": [
    "!cat code/readings-03.py"
   ]
  },
  {
   "cell_type": "markdown",
   "metadata": {},
   "source": [
    "and here it is in action:"
   ]
  },
  {
   "cell_type": "code",
   "execution_count": 17,
   "metadata": {
    "collapsed": false
   },
   "outputs": [
    {
     "name": "stdout",
     "output_type": "stream",
     "text": [
      "0.333333333333\r\n",
      "1.0\r\n",
      "13.6666666667\r\n",
      "11.0\r\n"
     ]
    }
   ],
   "source": [
    "!python code/readings-03.py data/small-01.csv data/small-02.csv"
   ]
  },
  {
   "cell_type": "markdown",
   "metadata": {},
   "source": [
    "> ## The Right Way to Do It\n",
    ">\n",
    "> At this point,\n",
    "> we have created three versions of our script called `readings-01.py`,\n",
    "> `readings-02.py`, and `readings-03.py`.\n",
    "> We wouldn't do this in real life:\n",
    "> instead,\n",
    "> we would have one file called `readings.py` that we committed to version control\n",
    "> every time we got an enhancement working.\n",
    "> For teaching,\n",
    "> though,\n",
    "> we need all the successive versions side by side.\n",
    "\n",
    "## Handling Command-Line Flags\n",
    "\n",
    "The next step is to teach our program to pay attention to the `--min`, `--mean`, and `--max` flags.\n",
    "These always appear before the names of the files,\n",
    "so we could just do this:"
   ]
  },
  {
   "cell_type": "code",
   "execution_count": 18,
   "metadata": {
    "collapsed": false
   },
   "outputs": [
    {
     "name": "stdout",
     "output_type": "stream",
     "text": [
      "import sys\r\n",
      "import numpy\r\n",
      "\r\n",
      "def main():\r\n",
      "    script = sys.argv[0]\r\n",
      "    action = sys.argv[1]\r\n",
      "    filenames = sys.argv[2:]\r\n",
      "\r\n",
      "    for f in filenames:\r\n",
      "        data = numpy.loadtxt(f, delimiter=',')\r\n",
      "\r\n",
      "        if action == '--min':\r\n",
      "            values = data.min(axis=1)\r\n",
      "        elif action == '--mean':\r\n",
      "            values = data.mean(axis=1)\r\n",
      "        elif action == '--max':\r\n",
      "            values = data.max(axis=1)\r\n",
      "\r\n",
      "        for m in values:\r\n",
      "            print(m)\r\n",
      "\r\n",
      "main()\r\n"
     ]
    }
   ],
   "source": [
    "!cat code/readings-04.py"
   ]
  },
  {
   "cell_type": "markdown",
   "metadata": {},
   "source": [
    "This works:"
   ]
  },
  {
   "cell_type": "code",
   "execution_count": 19,
   "metadata": {
    "collapsed": false
   },
   "outputs": [
    {
     "name": "stdout",
     "output_type": "stream",
     "text": [
      "1.0\r\n",
      "2.0\r\n"
     ]
    }
   ],
   "source": [
    "!python code/readings-04.py --max data/small-01.csv"
   ]
  },
  {
   "cell_type": "markdown",
   "metadata": {},
   "source": [
    "but there are several things wrong with it:\n",
    "\n",
    "1.  `main` is too large to read comfortably.\n",
    "\n",
    "2.  If `action` isn't one of the three recognized flags,\n",
    "    the program loads each file but does nothing with it\n",
    "    (because none of the branches in the conditional match).\n",
    "    [Silent failures](reference.html#silence-failure) like this\n",
    "    are always hard to debug.\n",
    "\n",
    "This version pulls the processing of each file out of the loop into a function of its own.\n",
    "It also checks that `action` is one of the allowed flags\n",
    "before doing any processing,\n",
    "so that the program fails fast:"
   ]
  },
  {
   "cell_type": "code",
   "execution_count": 20,
   "metadata": {
    "collapsed": false
   },
   "outputs": [
    {
     "name": "stdout",
     "output_type": "stream",
     "text": [
      "import sys\r\n",
      "import numpy\r\n",
      "\r\n",
      "def main():\r\n",
      "    script = sys.argv[0]\r\n",
      "    action = sys.argv[1]\r\n",
      "    filenames = sys.argv[2:]\r\n",
      "    assert action in ['--min', '--mean', '--max'], \\\r\n",
      "           'Action is not one of --min, --mean, or --max: ' + action\r\n",
      "    for f in filenames:\r\n",
      "        process(f, action)\r\n",
      "\r\n",
      "def process(filename, action):\r\n",
      "    data = numpy.loadtxt(filename, delimiter=',')\r\n",
      "\r\n",
      "    if action == '--min':\r\n",
      "        values = data.min(axis=1)\r\n",
      "    elif action == '--mean':\r\n",
      "        values = data.mean(axis=1)\r\n",
      "    elif action == '--max':\r\n",
      "        values = data.max(axis=1)\r\n",
      "\r\n",
      "    for m in values:\r\n",
      "        print(m)\r\n",
      "\r\n",
      "main()\r\n"
     ]
    }
   ],
   "source": [
    "!cat code/readings-05.py"
   ]
  },
  {
   "cell_type": "markdown",
   "metadata": {},
   "source": [
    "This is four lines longer than its predecessor,\n",
    "but broken into more digestible chunks of 8 and 12 lines.\n",
    "\n",
    "Python has a module named [argparse](http://docs.python.org/dev/library/argparse.html)\n",
    "that helps handle complex command-line flags. We will not cover this module in this lesson\n",
    "but you can go to Tshepang Lekhonkhobe's [Argparse tutorial](http://docs.python.org/dev/howto/argparse.html)\n",
    "that is part of Python's Official Documentation.\n",
    "\n",
    "## Handling Standard Input\n",
    "\n",
    "The next thing our program has to do is read data from standard input if no filenames are given\n",
    "so that we can put it in a pipeline,\n",
    "redirect input to it,\n",
    "and so on.\n",
    "Let's experiment in another script called `count-stdin.py`:"
   ]
  },
  {
   "cell_type": "code",
   "execution_count": 21,
   "metadata": {
    "collapsed": false
   },
   "outputs": [
    {
     "name": "stdout",
     "output_type": "stream",
     "text": [
      "import sys\r\n",
      "\r\n",
      "count = 0\r\n",
      "for line in sys.stdin:\r\n",
      "    count += 1\r\n",
      "\r\n",
      "print(count, 'lines in standard input')\r\n"
     ]
    }
   ],
   "source": [
    "!cat code/count-stdin.py"
   ]
  },
  {
   "cell_type": "markdown",
   "metadata": {},
   "source": [
    "This little program reads lines from a special \"file\" called `sys.stdin`,\n",
    "which is automatically connected to the program's standard input.\n",
    "We don't have to open it --- Python and the operating system\n",
    "take care of that when the program starts up ---\n",
    "but we can do almost anything with it that we could do to a regular file.\n",
    "Let's try running it as if it were a regular command-line program:"
   ]
  },
  {
   "cell_type": "code",
   "execution_count": 22,
   "metadata": {
    "collapsed": false
   },
   "outputs": [
    {
     "name": "stdout",
     "output_type": "stream",
     "text": [
      "2 lines in standard input\r\n"
     ]
    }
   ],
   "source": [
    "!python code/count-stdin.py < data/small-01.csv"
   ]
  },
  {
   "cell_type": "markdown",
   "metadata": {},
   "source": [
    "A common mistake is to try to run something that reads from standard input like this:"
   ]
  },
  {
   "cell_type": "code",
   "execution_count": 23,
   "metadata": {
    "collapsed": false
   },
   "outputs": [
    {
     "name": "stdout",
     "output_type": "stream",
     "text": [
      "/bin/sh: code/count_stdin.py: No such file or directory\r\n"
     ]
    }
   ],
   "source": [
    "!code/count_stdin.py data/small-01.csv"
   ]
  },
  {
   "cell_type": "markdown",
   "metadata": {},
   "source": [
    "i.e., to forget the `<` character that redirect the file to standard input.\n",
    "In this case,\n",
    "there's nothing in standard input,\n",
    "so the program waits at the start of the loop for someone to type something on the keyboard.\n",
    "Since there's no way for us to do this,\n",
    "our program is stuck,\n",
    "and we have to halt it using the `Interrupt` option from the `Kernel` menu in the Notebook.\n",
    "\n",
    "We now need to rewrite the program so that it loads data from `sys.stdin` if no filenames are provided.\n",
    "Luckily,\n",
    "`numpy.loadtxt` can handle either a filename or an open file as its first parameter,\n",
    "so we don't actually need to change `process`.\n",
    "That leaves `main`:"
   ]
  },
  {
   "cell_type": "code",
   "execution_count": 24,
   "metadata": {
    "collapsed": false
   },
   "outputs": [
    {
     "name": "stdout",
     "output_type": "stream",
     "text": [
      "import sys\r\n",
      "import numpy\r\n",
      "\r\n",
      "def main():\r\n",
      "    script = sys.argv[0]\r\n",
      "    action = sys.argv[1]\r\n",
      "    filenames = sys.argv[2:]\r\n",
      "    assert action in ['--min', '--mean', '--max'], \\\r\n",
      "           'Action is not one of --min, --mean, or --max: ' + action\r\n",
      "    if len(filenames) == 0:\r\n",
      "        process(sys.stdin, action)\r\n",
      "    else:\r\n",
      "        for f in filenames:\r\n",
      "            process(f, action)\r\n",
      "\r\n",
      "def process(filename, action):\r\n",
      "    data = numpy.loadtxt(filename, delimiter=',')\r\n",
      "\r\n",
      "    if action == '--min':\r\n",
      "        values = data.min(axis=1)\r\n",
      "    elif action == '--mean':\r\n",
      "        values = data.mean(axis=1)\r\n",
      "    elif action == '--max':\r\n",
      "        values = data.max(axis=1)\r\n",
      "\r\n",
      "    for m in values:\r\n",
      "        print(m)\r\n",
      "\r\n",
      "main()\r\n"
     ]
    }
   ],
   "source": [
    "!cat code/readings-06.py"
   ]
  },
  {
   "cell_type": "code",
   "execution_count": 25,
   "metadata": {
    "collapsed": true
   },
   "outputs": [],
   "source": [
    "def main():\n",
    "    script = sys.argv[0]\n",
    "    action = sys.argv[1]\n",
    "    filenames = sys.argv[2:]\n",
    "    assert action in ['--min', '--mean', '--max'], \\\n",
    "           'Action is not one of --min, --mean, or --max: ' + action\n",
    "    if len(filenames) == 0:\n",
    "        process(sys.stdin, action)\n",
    "    else:\n",
    "        for f in filenames:\n",
    "            process(f, action)"
   ]
  },
  {
   "cell_type": "markdown",
   "metadata": {},
   "source": [
    "Let's try it out:"
   ]
  },
  {
   "cell_type": "code",
   "execution_count": 26,
   "metadata": {
    "collapsed": false
   },
   "outputs": [
    {
     "name": "stdout",
     "output_type": "stream",
     "text": [
      "python: can't open file 'readings-06.py': [Errno 2] No such file or directory\r\n"
     ]
    }
   ],
   "source": [
    "!python readings-06.py --mean small-01.csv"
   ]
  },
  {
   "cell_type": "markdown",
   "metadata": {},
   "source": [
    "That's better.\n",
    "In fact,\n",
    "that's done:\n",
    "the program now does everything we set out to do.\n",
    "\n",
    "> ## Arithmetic on the command line {.challenge}\n",
    ">\n",
    "> Write a command-line program that does addition and subtraction:\n",
    ">\n",
    "> ~~~ {.python}\n",
    "> $ python arith.py add 1 2\n",
    "> ~~~\n",
    "> ~~~ {.output}\n",
    "> 3\n",
    "> ~~~\n",
    "> ~~~ {.python}\n",
    "> $ python arith.py subtract 3 4\n",
    "> ~~~\n",
    "> ~~~ {.output}\n",
    "> -1\n",
    "> ~~~\n",
    ">\n",
    "\n",
    "> ## Finding particular files {.challenge}\n",
    ">\n",
    "> Using the `glob` module introduced [earlier](04-files.html),\n",
    "> write a simple version of `ls` that shows files in the current directory with a particular suffix.\n",
    "> A call to this script should look like this:\n",
    ">\n",
    "> ~~~ {.python}\n",
    "> $ python my_ls.py py\n",
    "> ~~~\n",
    "> ~~~ {.output}\n",
    "> left.py\n",
    "> right.py\n",
    "> zero.py\n",
    "> ~~~\n",
    "\n",
    "> ## Changing flags {.challenge}\n",
    ">\n",
    "> Rewrite `readings.py` so that it uses `-n`, `-m`, and `-x` instead of `--min`, `--mean`, and `--max` respectively.\n",
    "> Is the code easier to read?\n",
    "> Is the program easier to understand?\n",
    "\n",
    "> ## Adding a help message {.challenge}\n",
    ">\n",
    "> Separately,\n",
    "> modify `readings.py` so that if no parameters are given\n",
    "> (i.e., no action is specified and no filenames are given),\n",
    "> it prints a message explaining how it should be used.\n",
    "\n",
    "> ## Adding a default action {.challenge}\n",
    ">\n",
    "> Separately,\n",
    "> modify `readings.py` so that if no action is given\n",
    "> it displays the means of the data.\n",
    "\n",
    "> ## A file-checker {.challenge}\n",
    ">\n",
    "> Write a program called `check.py` that takes the names of one or more inflammation data files as arguments\n",
    "> and checks that all the files have the same number of rows and columns.\n",
    "> What is the best way to test your program?\n",
    "\n",
    "> ## Counting lines {.challenge}\n",
    ">\n",
    "> Write a program called `line-count.py` that works like the Unix `wc` command:\n",
    ">\n",
    "> *   If no filenames are given, it reports the number of lines in standard input.\n",
    "> *   If one or more filenames are given, it reports the number of lines in each, followed by the total number of lines."
   ]
  }
 ],
 "metadata": {
  "kernelspec": {
   "display_name": "Python 3",
   "language": "python",
   "name": "python3"
  },
  "language_info": {
   "codemirror_mode": {
    "name": "ipython",
    "version": 3
   },
   "file_extension": ".py",
   "mimetype": "text/x-python",
   "name": "python",
   "nbconvert_exporter": "python",
   "pygments_lexer": "ipython3",
   "version": "3.4.3"
  }
 },
 "nbformat": 4,
 "nbformat_minor": 0
}
